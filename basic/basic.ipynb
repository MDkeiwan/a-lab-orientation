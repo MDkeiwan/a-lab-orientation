{
 "cells": [
  {
   "cell_type": "markdown",
   "metadata": {},
   "source": [
    "# 基本課題"
   ]
  },
  {
   "cell_type": "markdown",
   "metadata": {},
   "source": [
    "#### 1. 任意の文字列 (xxx) を標準入力で受け取り，\"Hello, xxx!\" と出力せよ。"
   ]
  },
  {
   "cell_type": "code",
   "execution_count": 10,
   "metadata": {},
   "outputs": [
    {
     "name": "stdout",
     "output_type": "stream",
     "text": [
      "文字を入力してください→a\n",
      "Hello,a!\n"
     ]
    }
   ],
   "source": [
    "x=input(\"文字を入力してください→\")\n",
    "print(\"Hello,{}!\".format(x))"
   ]
  },
  {
   "cell_type": "markdown",
   "metadata": {},
   "source": [
    "#### 2. 任意の整数を標準入力で受け取り，\"100\" との和差積商を出力せよ。"
   ]
  },
  {
   "cell_type": "code",
   "execution_count": 11,
   "metadata": {},
   "outputs": [
    {
     "name": "stdout",
     "output_type": "stream",
     "text": [
      "数字を入力してください->100\n",
      "和=200.0\n",
      "差=0.0\n",
      "積=10000.0\n",
      "商=1.0\n"
     ]
    }
   ],
   "source": [
    "x=float(input(\"数字を入力してください->\"))\n",
    "print(\"和={}\".format(100+x))\n",
    "print(\"差={}\".format(100-x))\n",
    "print(\"積={}\".format(100*x))\n",
    "print(\"商={}\".format(x/100))"
   ]
  },
  {
   "cell_type": "markdown",
   "metadata": {},
   "source": [
    "#### 3. 1から50のリストを作って，その最大値，最小値，合計値，平均値を出力せよ。"
   ]
  },
  {
   "cell_type": "code",
   "execution_count": 22,
   "metadata": {},
   "outputs": [
    {
     "name": "stdout",
     "output_type": "stream",
     "text": [
      "リスト=[1, 2, 3, 4, 5, 6, 7, 8, 9, 10, 11, 12, 13, 14, 15, 16, 17, 18, 19, 20, 21, 22, 23, 24, 25, 26, 27, 28, 29, 30, 31, 32, 33, 34, 35, 36, 37, 38, 39, 40, 41, 42, 43, 44, 45, 46, 47, 48, 49, 50]\n",
      "合計値=1275\n",
      "平均値=25.5\n",
      "最大値=50\n",
      "最小値=1\n"
     ]
    }
   ],
   "source": [
    "data=[i+1for i in range(50)]\n",
    "print(\"リスト={}\".format(data))\n",
    "print(\"合計値={}\".format(sum(data)))\n",
    "print(\"平均値={}\".format(sum(data)/len(data)))\n",
    "print(\"最大値={}\".format(max(data)))\n",
    "print(\"最小値={}\".format(min(data)))"
   ]
  },
  {
   "cell_type": "markdown",
   "metadata": {},
   "source": [
    "#### 4. 3. で作ったリストに 51から100のリストを追加せよ。また，そのリストから30から70までの偶数要素のみを出力せよ。"
   ]
  },
  {
   "cell_type": "code",
   "execution_count": 29,
   "metadata": {},
   "outputs": [
    {
     "name": "stdout",
     "output_type": "stream",
     "text": [
      "[1, 2, 3, 4, 5, 6, 7, 8, 9, 10, 11, 12, 13, 14, 15, 16, 17, 18, 19, 20, 21, 22, 23, 24, 25, 26, 27, 28, 29, 30, 31, 32, 33, 34, 35, 36, 37, 38, 39, 40, 41, 42, 43, 44, 45, 46, 47, 48, 49, 50, 51, 52, 53, 54, 55, 56, 57, 58, 59, 60, 61, 62, 63, 64, 65, 66, 67, 68, 69, 70, 71, 72, 73, 74, 75, 76, 77, 78, 79, 80, 81, 82, 83, 84, 85, 86, 87, 88, 89, 90, 91, 92, 93, 94, 95, 96, 97, 98, 99, 100]\n",
      "[30, 32, 34, 36, 38, 40, 42, 44, 46, 48, 50, 52, 54, 56, 58, 60, 62, 64, 66, 68, 70]\n"
     ]
    }
   ],
   "source": [
    "data2=[i+51 for i in range(50)]\n",
    "newdata=data+data2\n",
    "print([i for i in newdata if i>=30 and i<=71 and i%2==0])"
   ]
  },
  {
   "cell_type": "markdown",
   "metadata": {},
   "source": [
    "#### 5. 講習参加者の姓を key, 学年を value とする辞書を作り，全要素を for 文を用いて出力せよ。"
   ]
  },
  {
   "cell_type": "code",
   "execution_count": 3,
   "metadata": {},
   "outputs": [
    {
     "name": "stdout",
     "output_type": "stream",
     "text": [
      "matsue B4\n",
      "hagimoto B4\n",
      "seki B4\n",
      "matsuda B4\n",
      "yamada B4\n"
     ]
    }
   ],
   "source": [
    "member={\"matsuda\":\"B4\",\n",
    "       \"hagimoto\":\"B4\",\n",
    "       \"matsue\":\"B4\",\n",
    "       \"seki\":\"B4\",\n",
    "       \"yamada\":\"B4\"}\n",
    "for i in member:\n",
    "    print(i,member[i])"
   ]
  },
  {
   "cell_type": "markdown",
   "metadata": {},
   "source": [
    "#### 6. 1から100の範囲で，3で割り切れる場合は\"Fizz\"，5で割り切れる場合は\"buzz\"，そのどちらでも割り切れる場合は\"FizzBuzz\"，いずれでもない場合はそのまま数字を出力せよ。\n",
    "##### 出力例\n",
    "```bash\n",
    "1, 2, \"Fizz\", 4, \"Buzz\", \"Fizz\", ..., 14, \"FizzBuzz\", 16, ...\n",
    "```"
   ]
  },
  {
   "cell_type": "code",
   "execution_count": 15,
   "metadata": {},
   "outputs": [
    {
     "name": "stdout",
     "output_type": "stream",
     "text": [
      "1,2,Fizz,4,Buzz,Fizz,7,8,Fizz,Buzz,11,Fizz,13,14,FizzBuzz,16,17,Fizz,19,Buzz,Fizz,22,23,Fizz,Buzz,26,Fizz,28,29,FizzBuzz,31,32,Fizz,34,Buzz,Fizz,37,38,Fizz,Buzz,41,Fizz,43,44,FizzBuzz,46,47,Fizz,49,Buzz,Fizz,52,53,Fizz,Buzz,56,Fizz,58,59,FizzBuzz,61,62,Fizz,64,Buzz,Fizz,67,68,Fizz,Buzz,71,Fizz,73,74,FizzBuzz,76,77,Fizz,79,Buzz,Fizz,82,83,Fizz,Buzz,86,Fizz,88,89,FizzBuzz,91,92,Fizz,94,Buzz,Fizz,97,98,Fizz,"
     ]
    }
   ],
   "source": [
    "for x in range(1,100):\n",
    "    if x % 15 ==0:\n",
    "        print(\"FizzBuzz\",end=\",\")\n",
    "    elif x % 3 ==0:\n",
    "        print(\"Fizz\",end=\",\")\n",
    "    elif x % 5 ==0:\n",
    "        print(\"Buzz\",end=\",\")\n",
    "    else:\n",
    "        print(x,end=\",\")"
   ]
  },
  {
   "cell_type": "markdown",
   "metadata": {},
   "source": [
    "#### 7.　2つの自然数の最大公約数を求める関数を実装せよ。"
   ]
  },
  {
   "cell_type": "code",
   "execution_count": 16,
   "metadata": {},
   "outputs": [
    {
     "name": "stdout",
     "output_type": "stream",
     "text": [
      "一つ目の数字を入力してください12\n",
      "二つ目の数字を入力してください15\n",
      "3\n"
     ]
    }
   ],
   "source": [
    "x=int(input(\"一つ目の数字を入力してください\"))\n",
    "y=int(input(\"二つ目の数字を入力してください\"))\n",
    "\n",
    "if x>=y:\n",
    "    a=x\n",
    "    b=y\n",
    "else:\n",
    "    a=y\n",
    "    b=x\n",
    "if a%b==0:\n",
    "    pass\n",
    "else:\n",
    "    while a%b!=0:\n",
    "        c=a%b\n",
    "        a=b\n",
    "        b=c\n",
    "print(b)"
   ]
  },
  {
   "cell_type": "markdown",
   "metadata": {},
   "source": [
    "#### 8. `address-tab.txt`を読み込み，先頭から５行のみを出力せよ。また，タブをスペースに変換した結果を `address-space.txt` に書き込め。"
   ]
  },
  {
   "cell_type": "code",
   "execution_count": 17,
   "metadata": {},
   "outputs": [
    {
     "name": "stdout",
     "output_type": "stream",
     "text": [
      "愛知県名古屋市守山区\t桔梗平\n",
      "富山県砺波市\t大窪\n",
      "島根県邑智郡美郷町\t久保\n",
      "愛知県稲沢市\t横地\n",
      "宮城県栗原市\t高清水下折木\n"
     ]
    }
   ],
   "source": [
    "file=open(\"address-tab.txt\",\"r\")\n",
    "line=file.read()\n",
    "file.close()\n",
    "a=line.split(\"\\n\")\n",
    "with open(\"address-space.txt\",\"w\") as f:\n",
    "    for i, name in enumerate(a):\n",
    "        print(name)\n",
    "        b=name.replace(\"\\t\",\" \")\n",
    "        f.write(b+\"\\n\")\n",
    "        if i>3:\n",
    "            break"
   ]
  },
  {
   "cell_type": "markdown",
   "metadata": {},
   "source": [
    "#### 9. モンテカルロ法 (10,000点) を用いて円周率の近似値を求めよ。なお `NumPy` を用いること。\n",
    "\n",
    "> 参考：[NumPy 公式サイト](https://docs.scipy.org/doc/numpy/)"
   ]
  },
  {
   "cell_type": "code",
   "execution_count": 18,
   "metadata": {},
   "outputs": [
    {
     "name": "stdout",
     "output_type": "stream",
     "text": [
      "3.1496\n"
     ]
    }
   ],
   "source": [
    "import numpy as np\n",
    "num=10000\n",
    "x=np.random.rand(num)\n",
    "y=np.random.rand(num)\n",
    "b=(x*x+y*y)<=1\n",
    "print(4*b.sum()/num)"
   ]
  },
  {
   "cell_type": "markdown",
   "metadata": {},
   "source": [
    "#### 10. 以下のセルを実行して得られるデータ **(freq, spec)** を `Matplotlib` を用いて描画せよ。なお，タイトル，ラベル，凡例もつけること。\n",
    "\n",
    "> 参考：[Matplotlib 公式サイト](https://matplotlib.org/)"
   ]
  },
  {
   "cell_type": "code",
   "execution_count": null,
   "metadata": {
    "collapsed": true
   },
   "outputs": [],
   "source": [
    "import numpy as np\n",
    "\n",
    "SAMP_NUM = 256\n",
    "SAMP_INT = 0.01\n",
    "\n",
    "f1, f2 = 10, 20\n",
    "t = np.arange(0, SAMP_NUM * SAMP_INT, SAMP_INT)\n",
    "signal = np.sin(2*np.pi*f1*t) + np.sin(2*np.pi*f2*t) + np.random.randn(SAMP_NUM)\n",
    "\n",
    "freq = np.linspace(0, 1.0/SAMP_INT, SAMP_NUM)\n",
    "spec = np.abs(np.fft.fft(signal))"
   ]
  },
  {
   "cell_type": "code",
   "execution_count": 29,
   "metadata": {},
   "outputs": [
    {
     "data": {
      "text/plain": [
       "<function matplotlib.pyplot.show>"
      ]
     },
     "execution_count": 29,
     "metadata": {},
     "output_type": "execute_result"
    },
    {
     "data": {
      "image/png": "[encoded data removed]",
      "text/plain": [
       "<matplotlib.figure.Figure at 0x117160550>"
      ]
     },
     "metadata": {},
     "output_type": "display_data"
    }
   ],
   "source": [
    "import numpy as np\n",
    "import matplotlib.pyplot as plt\n",
    "%matplotlib inline\n",
    "fig=plt.figure()\n",
    "ax=fig.add_subplot(111)\n",
    "ax.plot(freq,spec,label=\"aaa\")\n",
    "ax.set_xlabel(\"x\")\n",
    "ax.set_ylabel(\"y\")\n",
    "plt.legend()\n",
    "plt.title(\"data\")\n",
    "plt.show"
   ]
  },
  {
   "cell_type": "markdown",
   "metadata": {},
   "source": [
    "#### Bonus : 10. と同様のグラフを `Bokeh` を用いて描画せよ。（Note: `Bokeh` はインストールされてない。）\n",
    "> 参考：[Bokeh 公式サイト](https://bokeh.pydata.org/en/latest/)"
   ]
  },
  {
   "cell_type": "code",
   "execution_count": 27,
   "metadata": {},
   "outputs": [
    {
     "data": {
      "text/html": [
       "\n",
       "    <div class=\"bk-root\">\n",
       "        <a href=\"https://bokeh.pydata.org\" target=\"_blank\" class=\"bk-logo bk-logo-small bk-logo-notebook\"></a>\n",
       "        <span id=\"6e5cd2b0-8fe7-4af4-8add-9f9cf8445a96\">Loading BokehJS ...</span>\n",
       "    </div>"
      ]
     },
     "metadata": {},
     "output_type": "display_data"
    },
    {
     "data": {
      "application/javascript": [
       "\n",
       "(function(root) {\n",
       "  function now() {\n",
       "    return new Date();\n",
       "  }\n",
       "\n",
       "  var force = true;\n",
       "\n",
       "  if (typeof (root._bokeh_onload_callbacks) === \"undefined\" || force === true) {\n",
       "    root._bokeh_onload_callbacks = [];\n",
       "    root._bokeh_is_loading = undefined;\n",
       "  }\n",
       "\n",
       "\n",
       "  \n",
       "  if (typeof (root._bokeh_timeout) === \"undefined\" || force === true) {\n",
       "    root._bokeh_timeout = Date.now() + 5000;\n",
       "    root._bokeh_failed_load = false;\n",
       "  }\n",
       "\n",
       "  var NB_LOAD_WARNING = {'data': {'text/html':\n",
       "     \"<div style='background-color: #fdd'>\\n\"+\n",
       "     \"<p>\\n\"+\n",
       "     \"BokehJS does not appear to have successfully loaded. If loading BokehJS from CDN, this \\n\"+\n",
       "     \"may be due to a slow or bad network connection. Possible fixes:\\n\"+\n",
       "     \"</p>\\n\"+\n",
       "     \"<ul>\\n\"+\n",
       "     \"<li>re-rerun `output_notebook()` to attempt to load from CDN again, or</li>\\n\"+\n",
       "     \"<li>use INLINE resources instead, as so:</li>\\n\"+\n",
       "     \"</ul>\\n\"+\n",
       "     \"<code>\\n\"+\n",
       "     \"from bokeh.resources import INLINE\\n\"+\n",
       "     \"output_notebook(resources=INLINE)\\n\"+\n",
       "     \"</code>\\n\"+\n",
       "     \"</div>\"}};\n",
       "\n",
       "  function display_loaded() {\n",
       "    if (root.Bokeh !== undefined) {\n",
       "      var el = document.getElementById(\"6e5cd2b0-8fe7-4af4-8add-9f9cf8445a96\");\n",
       "      if (el != null) {\n",
       "        el.textContent = \"BokehJS \" + Bokeh.version + \" successfully loaded.\";\n",
       "      }\n",
       "    } else if (Date.now() < root._bokeh_timeout) {\n",
       "      setTimeout(display_loaded, 100)\n",
       "    }\n",
       "  }\n",
       "\n",
       "\n",
       "  function run_callbacks() {\n",
       "    try {\n",
       "      root._bokeh_onload_callbacks.forEach(function(callback) { callback() });\n",
       "    }\n",
       "    finally {\n",
       "      delete root._bokeh_onload_callbacks\n",
       "    }\n",
       "    console.info(\"Bokeh: all callbacks have finished\");\n",
       "  }\n",
       "\n",
       "  function load_libs(js_urls, callback) {\n",
       "    root._bokeh_onload_callbacks.push(callback);\n",
       "    if (root._bokeh_is_loading > 0) {\n",
       "      console.log(\"Bokeh: BokehJS is being loaded, scheduling callback at\", now());\n",
       "      return null;\n",
       "    }\n",
       "    if (js_urls == null || js_urls.length === 0) {\n",
       "      run_callbacks();\n",
       "      return null;\n",
       "    }\n",
       "    console.log(\"Bokeh: BokehJS not loaded, scheduling load and callback at\", now());\n",
       "    root._bokeh_is_loading = js_urls.length;\n",
       "    for (var i = 0; i < js_urls.length; i++) {\n",
       "      var url = js_urls[i];\n",
       "      var s = document.createElement('script');\n",
       "      s.src = url;\n",
       "      s.async = false;\n",
       "      s.onreadystatechange = s.onload = function() {\n",
       "        root._bokeh_is_loading--;\n",
       "        if (root._bokeh_is_loading === 0) {\n",
       "          console.log(\"Bokeh: all BokehJS libraries loaded\");\n",
       "          run_callbacks()\n",
       "        }\n",
       "      };\n",
       "      s.onerror = function() {\n",
       "        console.warn(\"failed to load library \" + url);\n",
       "      };\n",
       "      console.log(\"Bokeh: injecting script tag for BokehJS library: \", url);\n",
       "      document.getElementsByTagName(\"head\")[0].appendChild(s);\n",
       "    }\n",
       "  };var element = document.getElementById(\"6e5cd2b0-8fe7-4af4-8add-9f9cf8445a96\");\n",
       "  if (element == null) {\n",
       "    console.log(\"Bokeh: ERROR: autoload.js configured with elementid '6e5cd2b0-8fe7-4af4-8add-9f9cf8445a96' but no matching script tag was found. \")\n",
       "    return false;\n",
       "  }\n",
       "\n",
       "  var js_urls = [\"https://cdn.pydata.org/bokeh/release/bokeh-0.12.7.min.js\", \"https://cdn.pydata.org/bokeh/release/bokeh-widgets-0.12.7.min.js\", \"https://cdn.pydata.org/bokeh/release/bokeh-tables-0.12.7.min.js\", \"https://cdn.pydata.org/bokeh/release/bokeh-gl-0.12.7.min.js\"];\n",
       "\n",
       "  var inline_js = [\n",
       "    function(Bokeh) {\n",
       "      Bokeh.set_log_level(\"info\");\n",
       "    },\n",
       "    \n",
       "    function(Bokeh) {\n",
       "      \n",
       "    },\n",
       "    \n",
       "    function(Bokeh) {\n",
       "      \n",
       "      document.getElementById(\"6e5cd2b0-8fe7-4af4-8add-9f9cf8445a96\").textContent = \"BokehJS is loading...\";\n",
       "    },\n",
       "    function(Bokeh) {\n",
       "      console.log(\"Bokeh: injecting CSS: https://cdn.pydata.org/bokeh/release/bokeh-0.12.7.min.css\");\n",
       "      Bokeh.embed.inject_css(\"https://cdn.pydata.org/bokeh/release/bokeh-0.12.7.min.css\");\n",
       "      console.log(\"Bokeh: injecting CSS: https://cdn.pydata.org/bokeh/release/bokeh-widgets-0.12.7.min.css\");\n",
       "      Bokeh.embed.inject_css(\"https://cdn.pydata.org/bokeh/release/bokeh-widgets-0.12.7.min.css\");\n",
       "      console.log(\"Bokeh: injecting CSS: https://cdn.pydata.org/bokeh/release/bokeh-tables-0.12.7.min.css\");\n",
       "      Bokeh.embed.inject_css(\"https://cdn.pydata.org/bokeh/release/bokeh-tables-0.12.7.min.css\");\n",
       "    }\n",
       "  ];\n",
       "\n",
       "  function run_inline_js() {\n",
       "    \n",
       "    if ((root.Bokeh !== undefined) || (force === true)) {\n",
       "      for (var i = 0; i < inline_js.length; i++) {\n",
       "        inline_js[i].call(root, root.Bokeh);\n",
       "      }if (force === true) {\n",
       "        display_loaded();\n",
       "      }} else if (Date.now() < root._bokeh_timeout) {\n",
       "      setTimeout(run_inline_js, 100);\n",
       "    } else if (!root._bokeh_failed_load) {\n",
       "      console.log(\"Bokeh: BokehJS failed to load within specified timeout.\");\n",
       "      root._bokeh_failed_load = true;\n",
       "    } else if (force !== true) {\n",
       "      var cell = $(document.getElementById(\"6e5cd2b0-8fe7-4af4-8add-9f9cf8445a96\")).parents('.cell').data().cell;\n",
       "      cell.output_area.append_execute_result(NB_LOAD_WARNING)\n",
       "    }\n",
       "\n",
       "  }\n",
       "\n",
       "  if (root._bokeh_is_loading === 0) {\n",
       "    console.log(\"Bokeh: BokehJS loaded, going straight to plotting\");\n",
       "    run_inline_js();\n",
       "  } else {\n",
       "    load_libs(js_urls, function() {\n",
       "      console.log(\"Bokeh: BokehJS plotting callback run at\", now());\n",
       "      run_inline_js();\n",
       "    });\n",
       "  }\n",
       "}(window));"
      ]
     },
     "metadata": {},
     "output_type": "display_data"
    }
   ],
   "source": [
    "import numpy as np\n",
    "from bokeh.io import output_notebook, show\n",
    "from bokeh.plotting import figure\n",
    "\n",
    "output_notebook()"
   ]
  },
  {
   "cell_type": "code",
   "execution_count": 28,
   "metadata": {},
   "outputs": [
    {
     "data": {
      "text/html": [
       "\n",
       "\n",
       "    <div class=\"bk-root\">\n",
       "        <div class=\"bk-plotdiv\" id=\"dc892b91-b5c4-4ec1-bee7-eaf19f8cab13\"></div>\n",
       "    </div>\n",
       "<script type=\"text/javascript\">\n",
       "  \n",
       "  (function(root) {\n",
       "    function now() {\n",
       "      return new Date();\n",
       "    }\n",
       "  \n",
       "    var force = false;\n",
       "  \n",
       "    if (typeof (root._bokeh_onload_callbacks) === \"undefined\" || force === true) {\n",
       "      root._bokeh_onload_callbacks = [];\n",
       "      root._bokeh_is_loading = undefined;\n",
       "    }\n",
       "  \n",
       "  \n",
       "    \n",
       "    if (typeof (root._bokeh_timeout) === \"undefined\" || force === true) {\n",
       "      root._bokeh_timeout = Date.now() + 0;\n",
       "      root._bokeh_failed_load = false;\n",
       "    }\n",
       "  \n",
       "    var NB_LOAD_WARNING = {'data': {'text/html':\n",
       "       \"<div style='background-color: #fdd'>\\n\"+\n",
       "       \"<p>\\n\"+\n",
       "       \"BokehJS does not appear to have successfully loaded. If loading BokehJS from CDN, this \\n\"+\n",
       "       \"may be due to a slow or bad network connection. Possible fixes:\\n\"+\n",
       "       \"</p>\\n\"+\n",
       "       \"<ul>\\n\"+\n",
       "       \"<li>re-rerun `output_notebook()` to attempt to load from CDN again, or</li>\\n\"+\n",
       "       \"<li>use INLINE resources instead, as so:</li>\\n\"+\n",
       "       \"</ul>\\n\"+\n",
       "       \"<code>\\n\"+\n",
       "       \"from bokeh.resources import INLINE\\n\"+\n",
       "       \"output_notebook(resources=INLINE)\\n\"+\n",
       "       \"</code>\\n\"+\n",
       "       \"</div>\"}};\n",
       "  \n",
       "    function display_loaded() {\n",
       "      if (root.Bokeh !== undefined) {\n",
       "        var el = document.getElementById(\"dc892b91-b5c4-4ec1-bee7-eaf19f8cab13\");\n",
       "        if (el != null) {\n",
       "          el.textContent = \"BokehJS \" + Bokeh.version + \" successfully loaded.\";\n",
       "        }\n",
       "      } else if (Date.now() < root._bokeh_timeout) {\n",
       "        setTimeout(display_loaded, 100)\n",
       "      }\n",
       "    }\n",
       "  \n",
       "  \n",
       "    function run_callbacks() {\n",
       "      try {\n",
       "        root._bokeh_onload_callbacks.forEach(function(callback) { callback() });\n",
       "      }\n",
       "      finally {\n",
       "        delete root._bokeh_onload_callbacks\n",
       "      }\n",
       "      console.info(\"Bokeh: all callbacks have finished\");\n",
       "    }\n",
       "  \n",
       "    function load_libs(js_urls, callback) {\n",
       "      root._bokeh_onload_callbacks.push(callback);\n",
       "      if (root._bokeh_is_loading > 0) {\n",
       "        console.log(\"Bokeh: BokehJS is being loaded, scheduling callback at\", now());\n",
       "        return null;\n",
       "      }\n",
       "      if (js_urls == null || js_urls.length === 0) {\n",
       "        run_callbacks();\n",
       "        return null;\n",
       "      }\n",
       "      console.log(\"Bokeh: BokehJS not loaded, scheduling load and callback at\", now());\n",
       "      root._bokeh_is_loading = js_urls.length;\n",
       "      for (var i = 0; i < js_urls.length; i++) {\n",
       "        var url = js_urls[i];\n",
       "        var s = document.createElement('script');\n",
       "        s.src = url;\n",
       "        s.async = false;\n",
       "        s.onreadystatechange = s.onload = function() {\n",
       "          root._bokeh_is_loading--;\n",
       "          if (root._bokeh_is_loading === 0) {\n",
       "            console.log(\"Bokeh: all BokehJS libraries loaded\");\n",
       "            run_callbacks()\n",
       "          }\n",
       "        };\n",
       "        s.onerror = function() {\n",
       "          console.warn(\"failed to load library \" + url);\n",
       "        };\n",
       "        console.log(\"Bokeh: injecting script tag for BokehJS library: \", url);\n",
       "        document.getElementsByTagName(\"head\")[0].appendChild(s);\n",
       "      }\n",
       "    };var element = document.getElementById(\"dc892b91-b5c4-4ec1-bee7-eaf19f8cab13\");\n",
       "    if (element == null) {\n",
       "      console.log(\"Bokeh: ERROR: autoload.js configured with elementid 'dc892b91-b5c4-4ec1-bee7-eaf19f8cab13' but no matching script tag was found. \")\n",
       "      return false;\n",
       "    }\n",
       "  \n",
       "    var js_urls = [];\n",
       "  \n",
       "    var inline_js = [\n",
       "      function(Bokeh) {\n",
       "        (function() {\n",
       "          var fn = function() {\n",
       "            var docs_json = {\"57d6821e-5cf4-493b-8179-572c79b9cb2f\":{\"roots\":{\"references\":[{\"attributes\":{\"plot\":null,\"text\":\"data\"},\"id\":\"06e5d256-c2bd-4312-aa97-7a169e596a85\",\"type\":\"Title\"},{\"attributes\":{},\"id\":\"df895e8c-643f-40da-89de-06e2693512f7\",\"type\":\"ResetTool\"},{\"attributes\":{},\"id\":\"a8418be6-c3b0-4eb6-ae21-741e6083a5b0\",\"type\":\"BasicTickFormatter\"},{\"attributes\":{\"data_source\":{\"id\":\"7933c2ef-89d3-49ab-a85e-657dc9bf2063\",\"type\":\"ColumnDataSource\"},\"glyph\":{\"id\":\"a27d1e06-f624-400b-a808-142be1e40ddd\",\"type\":\"Line\"},\"hover_glyph\":null,\"muted_glyph\":null,\"nonselection_glyph\":{\"id\":\"357d0e1c-daa4-43cd-9e2c-73adeac23901\",\"type\":\"Line\"},\"selection_glyph\":null,\"view\":{\"id\":\"0933a0e9-766a-44d1-bcae-e916d704d9c6\",\"type\":\"CDSView\"}},\"id\":\"16a7fc13-0756-471b-8a41-31a86d7ed351\",\"type\":\"GlyphRenderer\"},{\"attributes\":{},\"id\":\"ee52f2e7-796c-403c-b750-1125bae6d9bb\",\"type\":\"LinearScale\"},{\"attributes\":{\"bottom_units\":\"screen\",\"fill_alpha\":{\"value\":0.5},\"fill_color\":{\"value\":\"lightgrey\"},\"left_units\":\"screen\",\"level\":\"overlay\",\"line_alpha\":{\"value\":1.0},\"line_color\":{\"value\":\"black\"},\"line_dash\":[4,4],\"line_width\":{\"value\":2},\"plot\":null,\"render_mode\":\"css\",\"right_units\":\"screen\",\"top_units\":\"screen\"},\"id\":\"3158c8bc-37ce-4ae5-9afc-7d8789c53eaf\",\"type\":\"BoxAnnotation\"},{\"attributes\":{\"line_alpha\":{\"value\":0.1},\"line_color\":{\"value\":\"#1f77b4\"},\"x\":{\"field\":\"x\"},\"y\":{\"field\":\"y\"}},\"id\":\"357d0e1c-daa4-43cd-9e2c-73adeac23901\",\"type\":\"Line\"},{\"attributes\":{},\"id\":\"e889e58f-119a-4c0a-825c-5c4bef120fb9\",\"type\":\"BasicTicker\"},{\"attributes\":{\"active_drag\":\"auto\",\"active_inspect\":\"auto\",\"active_scroll\":\"auto\",\"active_tap\":\"auto\",\"tools\":[{\"id\":\"61e9e083-3a2c-49f4-a195-f6eb9416a575\",\"type\":\"PanTool\"},{\"id\":\"caf07e08-626d-4a92-9714-3008035b94fb\",\"type\":\"WheelZoomTool\"},{\"id\":\"4e1147b8-056a-4928-96a0-f8357a62ceb0\",\"type\":\"BoxZoomTool\"},{\"id\":\"551a8bf2-9047-4f31-96e1-1e5814a50a8d\",\"type\":\"SaveTool\"},{\"id\":\"df895e8c-643f-40da-89de-06e2693512f7\",\"type\":\"ResetTool\"},{\"id\":\"fb414d16-e04f-46bd-87d1-50b96a0147df\",\"type\":\"HelpTool\"}]},\"id\":\"7a8d4508-cd32-49ed-84bb-6f4ee567ddba\",\"type\":\"Toolbar\"},{\"attributes\":{\"line_color\":{\"value\":\"#1f77b4\"},\"x\":{\"field\":\"x\"},\"y\":{\"field\":\"y\"}},\"id\":\"a27d1e06-f624-400b-a808-142be1e40ddd\",\"type\":\"Line\"},{\"attributes\":{\"label\":{\"value\":\"data\"},\"renderers\":[{\"id\":\"16a7fc13-0756-471b-8a41-31a86d7ed351\",\"type\":\"GlyphRenderer\"}]},\"id\":\"31fd248e-6727-46b5-8dec-d6b6c1344bc5\",\"type\":\"LegendItem\"},{\"attributes\":{},\"id\":\"551a8bf2-9047-4f31-96e1-1e5814a50a8d\",\"type\":\"SaveTool\"},{\"attributes\":{\"source\":{\"id\":\"7933c2ef-89d3-49ab-a85e-657dc9bf2063\",\"type\":\"ColumnDataSource\"}},\"id\":\"0933a0e9-766a-44d1-bcae-e916d704d9c6\",\"type\":\"CDSView\"},{\"attributes\":{\"items\":[{\"id\":\"31fd248e-6727-46b5-8dec-d6b6c1344bc5\",\"type\":\"LegendItem\"}],\"plot\":{\"id\":\"2b21b701-3a45-406f-afef-1370698d304a\",\"subtype\":\"Figure\",\"type\":\"Plot\"}},\"id\":\"d29d8143-57ac-4433-93c5-9f562bbbeaf8\",\"type\":\"Legend\"},{\"attributes\":{},\"id\":\"61e9e083-3a2c-49f4-a195-f6eb9416a575\",\"type\":\"PanTool\"},{\"attributes\":{},\"id\":\"8fdad358-ba38-4a49-8cb4-14d7c01bf0d7\",\"type\":\"BasicTicker\"},{\"attributes\":{},\"id\":\"a55dcf00-cfc3-4335-bb85-6b68a2f01dea\",\"type\":\"BasicTickFormatter\"},{\"attributes\":{\"overlay\":{\"id\":\"3158c8bc-37ce-4ae5-9afc-7d8789c53eaf\",\"type\":\"BoxAnnotation\"}},\"id\":\"4e1147b8-056a-4928-96a0-f8357a62ceb0\",\"type\":\"BoxZoomTool\"},{\"attributes\":{},\"id\":\"75a322e6-8044-4d05-945b-8d9cd904bf26\",\"type\":\"LinearScale\"},{\"attributes\":{\"axis_label\":\"x\",\"formatter\":{\"id\":\"a8418be6-c3b0-4eb6-ae21-741e6083a5b0\",\"type\":\"BasicTickFormatter\"},\"plot\":{\"id\":\"2b21b701-3a45-406f-afef-1370698d304a\",\"subtype\":\"Figure\",\"type\":\"Plot\"},\"ticker\":{\"id\":\"8fdad358-ba38-4a49-8cb4-14d7c01bf0d7\",\"type\":\"BasicTicker\"}},\"id\":\"9bd03888-1a9c-4879-9d80-3864e165d857\",\"type\":\"LinearAxis\"},{\"attributes\":{\"plot\":{\"id\":\"2b21b701-3a45-406f-afef-1370698d304a\",\"subtype\":\"Figure\",\"type\":\"Plot\"},\"ticker\":{\"id\":\"8fdad358-ba38-4a49-8cb4-14d7c01bf0d7\",\"type\":\"BasicTicker\"}},\"id\":\"5360b816-3fa9-4c67-bf6f-3a6dcde85854\",\"type\":\"Grid\"},{\"attributes\":{\"dimension\":1,\"plot\":{\"id\":\"2b21b701-3a45-406f-afef-1370698d304a\",\"subtype\":\"Figure\",\"type\":\"Plot\"},\"ticker\":{\"id\":\"e889e58f-119a-4c0a-825c-5c4bef120fb9\",\"type\":\"BasicTicker\"}},\"id\":\"89137e15-ee99-4deb-bd13-4d58b954ed25\",\"type\":\"Grid\"},{\"attributes\":{\"axis_label\":\"y\",\"formatter\":{\"id\":\"a55dcf00-cfc3-4335-bb85-6b68a2f01dea\",\"type\":\"BasicTickFormatter\"},\"plot\":{\"id\":\"2b21b701-3a45-406f-afef-1370698d304a\",\"subtype\":\"Figure\",\"type\":\"Plot\"},\"ticker\":{\"id\":\"e889e58f-119a-4c0a-825c-5c4bef120fb9\",\"type\":\"BasicTicker\"}},\"id\":\"1425a508-59c2-4d7d-924d-c2129c0a67f7\",\"type\":\"LinearAxis\"},{\"attributes\":{\"callback\":null},\"id\":\"ea4bf199-0c18-4722-9e4b-6a03494e3b09\",\"type\":\"DataRange1d\"},{\"attributes\":{},\"id\":\"fb414d16-e04f-46bd-87d1-50b96a0147df\",\"type\":\"HelpTool\"},{\"attributes\":{\"callback\":null},\"id\":\"fde6d16c-0db1-47b9-954e-40350c95afc0\",\"type\":\"DataRange1d\"},{\"attributes\":{},\"id\":\"caf07e08-626d-4a92-9714-3008035b94fb\",\"type\":\"WheelZoomTool\"},{\"attributes\":{\"callback\":null,\"column_names\":[\"y\",\"x\"],\"data\":{\"x\":{\"__ndarray__\":\"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\",\"dtype\":\"float64\",\"shape\":[256]},\"y\":{\"__ndarray__\":\"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\",\"dtype\":\"float64\",\"shape\":[256]}}},\"id\":\"7933c2ef-89d3-49ab-a85e-657dc9bf2063\",\"type\":\"ColumnDataSource\"},{\"attributes\":{\"below\":[{\"id\":\"9bd03888-1a9c-4879-9d80-3864e165d857\",\"type\":\"LinearAxis\"}],\"left\":[{\"id\":\"1425a508-59c2-4d7d-924d-c2129c0a67f7\",\"type\":\"LinearAxis\"}],\"renderers\":[{\"id\":\"9bd03888-1a9c-4879-9d80-3864e165d857\",\"type\":\"LinearAxis\"},{\"id\":\"5360b816-3fa9-4c67-bf6f-3a6dcde85854\",\"type\":\"Grid\"},{\"id\":\"1425a508-59c2-4d7d-924d-c2129c0a67f7\",\"type\":\"LinearAxis\"},{\"id\":\"89137e15-ee99-4deb-bd13-4d58b954ed25\",\"type\":\"Grid\"},{\"id\":\"3158c8bc-37ce-4ae5-9afc-7d8789c53eaf\",\"type\":\"BoxAnnotation\"},{\"id\":\"d29d8143-57ac-4433-93c5-9f562bbbeaf8\",\"type\":\"Legend\"},{\"id\":\"16a7fc13-0756-471b-8a41-31a86d7ed351\",\"type\":\"GlyphRenderer\"}],\"title\":{\"id\":\"06e5d256-c2bd-4312-aa97-7a169e596a85\",\"type\":\"Title\"},\"toolbar\":{\"id\":\"7a8d4508-cd32-49ed-84bb-6f4ee567ddba\",\"type\":\"Toolbar\"},\"x_range\":{\"id\":\"fde6d16c-0db1-47b9-954e-40350c95afc0\",\"type\":\"DataRange1d\"},\"x_scale\":{\"id\":\"ee52f2e7-796c-403c-b750-1125bae6d9bb\",\"type\":\"LinearScale\"},\"y_range\":{\"id\":\"ea4bf199-0c18-4722-9e4b-6a03494e3b09\",\"type\":\"DataRange1d\"},\"y_scale\":{\"id\":\"75a322e6-8044-4d05-945b-8d9cd904bf26\",\"type\":\"LinearScale\"}},\"id\":\"2b21b701-3a45-406f-afef-1370698d304a\",\"subtype\":\"Figure\",\"type\":\"Plot\"}],\"root_ids\":[\"2b21b701-3a45-406f-afef-1370698d304a\"]},\"title\":\"Bokeh Application\",\"version\":\"0.12.7\"}};\n",
       "            var render_items = [{\"docid\":\"57d6821e-5cf4-493b-8179-572c79b9cb2f\",\"elementid\":\"dc892b91-b5c4-4ec1-bee7-eaf19f8cab13\",\"modelid\":\"2b21b701-3a45-406f-afef-1370698d304a\"}];\n",
       "            \n",
       "            Bokeh.embed.embed_items(docs_json, render_items);\n",
       "          };\n",
       "          if (document.readyState != \"loading\") fn();\n",
       "          else document.addEventListener(\"DOMContentLoaded\", fn);\n",
       "        })();\n",
       "      },\n",
       "      function(Bokeh) {\n",
       "      }\n",
       "    ];\n",
       "  \n",
       "    function run_inline_js() {\n",
       "      \n",
       "      if ((root.Bokeh !== undefined) || (force === true)) {\n",
       "        for (var i = 0; i < inline_js.length; i++) {\n",
       "          inline_js[i].call(root, root.Bokeh);\n",
       "        }if (force === true) {\n",
       "          display_loaded();\n",
       "        }} else if (Date.now() < root._bokeh_timeout) {\n",
       "        setTimeout(run_inline_js, 100);\n",
       "      } else if (!root._bokeh_failed_load) {\n",
       "        console.log(\"Bokeh: BokehJS failed to load within specified timeout.\");\n",
       "        root._bokeh_failed_load = true;\n",
       "      } else if (force !== true) {\n",
       "        var cell = $(document.getElementById(\"dc892b91-b5c4-4ec1-bee7-eaf19f8cab13\")).parents('.cell').data().cell;\n",
       "        cell.output_area.append_execute_result(NB_LOAD_WARNING)\n",
       "      }\n",
       "  \n",
       "    }\n",
       "  \n",
       "    if (root._bokeh_is_loading === 0) {\n",
       "      console.log(\"Bokeh: BokehJS loaded, going straight to plotting\");\n",
       "      run_inline_js();\n",
       "    } else {\n",
       "      load_libs(js_urls, function() {\n",
       "        console.log(\"Bokeh: BokehJS plotting callback run at\", now());\n",
       "        run_inline_js();\n",
       "      });\n",
       "    }\n",
       "  }(window));\n",
       "</script>"
      ]
     },
     "metadata": {},
     "output_type": "display_data"
    }
   ],
   "source": [
    "p=figure(title=\"data\", x_axis_label='x', y_axis_label='y')\n",
    "p.line(freq,spec,legend=\"data\")\n",
    "show(p)"
   ]
  }
 ],
 "metadata": {
  "kernelspec": {
   "display_name": "Python 3",
   "language": "python",
   "name": "python3"
  },
  "language_info": {
   "codemirror_mode": {
    "name": "ipython",
    "version": 3
   },
   "file_extension": ".py",
   "mimetype": "text/x-python",
   "name": "python",
   "nbconvert_exporter": "python",
   "pygments_lexer": "ipython3",
   "version": "3.7.2"
  }
 },
 "nbformat": 4,
 "nbformat_minor": 2
}
