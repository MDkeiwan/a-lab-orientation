{
 "cells": [
  {
   "cell_type": "markdown",
   "metadata": {},
   "source": [
    "# 基本課題"
   ]
  },
  {
   "cell_type": "markdown",
   "metadata": {},
   "source": [
    "#### 1. 任意の文字列 (xxx) を標準入力で受け取り，\"Hello, xxx!\" と出力せよ。"
   ]
  },
  {
   "cell_type": "code",
   "execution_count": null,
   "metadata": {},
   "outputs": [],
   "source": [
    "x=input(\"文字を入力してください→\")\n",
    "print(\"Hello,{}!\".format(x))"
   ]
  },
  {
   "cell_type": "markdown",
   "metadata": {},
   "source": [
    "#### 2. 任意の整数を標準入力で受け取り，\"100\" との和差積商を出力せよ。"
   ]
  },
  {
   "cell_type": "code",
   "execution_count": 6,
   "metadata": {},
   "outputs": [
    {
     "name": "stdin",
     "output_type": "stream",
     "text": [
      "数字を入力してください-> 12\n"
     ]
    },
    {
     "name": "stdout",
     "output_type": "stream",
     "text": [
      "和=112\n",
      "差=88\n",
      "積=1200\n",
      "商=0.12\n",
      "[1, 2, 3, 4, 5, 6, 7, 8, 9, 10, 11, 12, 13, 14, 15, 16, 17, 18, 19, 20, 21, 22, 23, 24, 25, 26, 27, 28, 29, 30, 31, 32, 33, 34, 35, 36, 37, 38, 39, 40, 41, 42, 43, 44, 45, 46, 47, 48, 49]\n"
     ]
    }
   ],
   "source": [
    "try:\n",
    "    x=int(input(\"数字を入力してください->\"))\n",
    "    print(\"和={}\".format(100+x))\n",
    "    print(\"差={}\".format(100-x))\n",
    "    print(\"積={}\".format(100*x))\n",
    "    print(\"商={}\".format(x/100))\n",
    "except ValueError:\n",
    "    print(\"Input Error\")\n",
    "    \n"
   ]
  },
  {
   "cell_type": "markdown",
   "metadata": {},
   "source": [
    "#### 3. 1から50のリストを作って，その最大値，最小値，合計値，平均値を出力せよ。"
   ]
  },
  {
   "cell_type": "code",
   "execution_count": 2,
   "metadata": {},
   "outputs": [
    {
     "name": "stdout",
     "output_type": "stream",
     "text": [
      "リスト=[1, 2, 3, 4, 5, 6, 7, 8, 9, 10, 11, 12, 13, 14, 15, 16, 17, 18, 19, 20, 21, 22, 23, 24, 25, 26, 27, 28, 29, 30, 31, 32, 33, 34, 35, 36, 37, 38, 39, 40, 41, 42, 43, 44, 45, 46, 47, 48, 49, 50]\n",
      "合計値=1275\n",
      "平均値=25.5\n",
      "最大値=50\n",
      "最小値=1\n"
     ]
    }
   ],
   "source": [
    "data=[i+1for i in range(50)]\n",
    "print(\"リスト={}\".format(data))\n",
    "print(\"合計値={}\".format(sum(data)))\n",
    "print(\"平均値={}\".format(sum(data)/len(data)))\n",
    "print(\"最大値={}\".format(max(data)))\n",
    "print(\"最小値={}\".format(min(data)))"
   ]
  },
  {
   "cell_type": "markdown",
   "metadata": {},
   "source": [
    "#### 4. 3. で作ったリストに 51から100のリストを追加せよ。また，そのリストから30から70までの偶数要素のみを出力せよ。"
   ]
  },
  {
   "cell_type": "code",
   "execution_count": 3,
   "metadata": {},
   "outputs": [
    {
     "name": "stdout",
     "output_type": "stream",
     "text": [
      "[30, 32, 34, 36, 38, 40, 42, 44, 46, 48, 50, 52, 54, 56, 58, 60, 62, 64, 66, 68, 70]\n"
     ]
    }
   ],
   "source": [
    "data2=[i+51 for i in range(50)]\n",
    "newdata=data+data2\n",
    "print([i for i in newdata if i>=30 and i<=70 and i%2==0])"
   ]
  },
  {
   "cell_type": "markdown",
   "metadata": {},
   "source": [
    "#### 5. 講習参加者の姓を key, 学年を value とする辞書を作り，全要素を for 文を用いて出力せよ。"
   ]
  },
  {
   "cell_type": "code",
   "execution_count": 8,
   "metadata": {},
   "outputs": [
    {
     "name": "stdout",
     "output_type": "stream",
     "text": [
      "matsuda B4\n",
      "hagimoto B4\n",
      "matsue B4\n",
      "seki B4\n",
      "yamada B4\n",
      "[1, 2, 3, 4, 5, 6, 7, 8, 9, 10, 11, 12, 13, 14, 15, 16, 17, 18, 19, 20, 21, 22, 23, 24, 25, 26, 27, 28, 29, 30, 31, 32, 33, 34, 35, 36, 37, 38, 39, 40, 41, 42, 43, 44, 45, 46, 47, 48, 49]\n"
     ]
    }
   ],
   "source": [
    "member={\"matsuda\":\"B4\",\n",
    "       \"hagimoto\":\"B4\",\n",
    "       \"matsue\":\"B4\",\n",
    "       \"seki\":\"B4\",\n",
    "       \"yamada\":\"B4\"}\n",
    "for i in member:\n",
    "    print(i,member[i])\n",
    "    \n",
    "print(list(range(1,50,1)))"
   ]
  },
  {
   "cell_type": "markdown",
   "metadata": {},
   "source": [
    "#### 6. 1から100の範囲で，3で割り切れる場合は\"Fizz\"，5で割り切れる場合は\"buzz\"，そのどちらでも割り切れる場合は\"FizzBuzz\"，いずれでもない場合はそのまま数字を出力せよ。\n",
    "##### 出力例\n",
    "```bash\n",
    "1, 2, \"Fizz\", 4, \"Buzz\", \"Fizz\", ..., 14, \"FizzBuzz\", 16, ...\n",
    "```"
   ]
  },
  {
   "cell_type": "code",
   "execution_count": null,
   "metadata": {},
   "outputs": [],
   "source": [
    "for x in range(1,100):\n",
    "    if x % 15 ==0:\n",
    "        print(\"FizzBuzz\",end=\",\")\n",
    "    elif x % 3 ==0:\n",
    "        print(\"Fizz\",end=\",\")\n",
    "    elif x % 5 ==0:\n",
    "        print(\"Buzz\",end=\",\")\n",
    "    else:\n",
    "        print(x,end=\",\")"
   ]
  },
  {
   "cell_type": "markdown",
   "metadata": {},
   "source": [
    "#### 7.　2つの自然数の最大公約数を求める関数を実装せよ。"
   ]
  },
  {
   "cell_type": "code",
   "execution_count": 5,
   "metadata": {},
   "outputs": [
    {
     "name": "stdin",
     "output_type": "stream",
     "text": [
      "一つ目の数字を入力してください-> 12\n",
      "二つ目の数字を入力してください-> 20\n"
     ]
    },
    {
     "name": "stdout",
     "output_type": "stream",
     "text": [
      "4\n"
     ]
    }
   ],
   "source": [
    "def f(x,y):\n",
    "        if y>=x:\n",
    "            x,y=y,x\n",
    "        else:\n",
    "            pass\n",
    "        while x%y!=0:\n",
    "            c=x%y\n",
    "            x=y\n",
    "            y=c\n",
    "        return y\n",
    "try:\n",
    "    x=int(input(\"一つ目の数字を入力してください->\"))\n",
    "    y=int(input(\"二つ目の数字を入力してください->\"))\n",
    "    a=f(x,y)\n",
    "    print(a)\n",
    "except ValueError:\n",
    "    print(\"Input Error\")"
   ]
  },
  {
   "cell_type": "markdown",
   "metadata": {},
   "source": [
    "#### 8. `address-tab.txt`を読み込み，先頭から５行のみを出力せよ。また，タブをスペースに変換した結果を `address-space.txt` に書き込め。"
   ]
  },
  {
   "cell_type": "code",
   "execution_count": null,
   "metadata": {},
   "outputs": [],
   "source": [
    "file=open(\"address-tab.txt\",\"r\")\n",
    "line=file.read()\n",
    "file.close()\n",
    "a=line.split(\"\\n\")\n",
    "with open(\"address-space.txt\",\"w\") as f:\n",
    "    for i, name in enumerate(a):\n",
    "        print(name)\n",
    "        b=name.replace(\"\\t\",\" \")\n",
    "        f.write(b+\"\\n\")\n",
    "        if i>3:\n",
    "            break"
   ]
  },
  {
   "cell_type": "markdown",
   "metadata": {},
   "source": [
    "#### 9. モンテカルロ法 (10,000点) を用いて円周率の近似値を求めよ。なお `NumPy` を用いること。\n",
    "\n",
    "> 参考：[NumPy 公式サイト](https://docs.scipy.org/doc/numpy/)"
   ]
  },
  {
   "cell_type": "code",
   "execution_count": 13,
   "metadata": {},
   "outputs": [
    {
     "name": "stdout",
     "output_type": "stream",
     "text": [
      "3.126\n"
     ]
    }
   ],
   "source": [
    "import numpy as np\n",
    "num=10000\n",
    "x=np.random.rand(num)\n",
    "y=np.random.rand(num)\n",
    "b=(x*x+y*y)<=1\n",
    "print(4*b.sum()/num)"
   ]
  },
  {
   "cell_type": "markdown",
   "metadata": {},
   "source": [
    "#### 10. 以下のセルを実行して得られるデータ **(freq, spec)** を `Matplotlib` を用いて描画せよ。なお，タイトル，ラベル，凡例もつけること。\n",
    "\n",
    "> 参考：[Matplotlib 公式サイト](https://matplotlib.org/)"
   ]
  },
  {
   "cell_type": "code",
   "execution_count": 11,
   "metadata": {},
   "outputs": [],
   "source": [
    "import numpy as np\n",
    "\n",
    "SAMP_NUM = 256\n",
    "SAMP_INT = 0.01\n",
    "\n",
    "f1, f2 = 10, 20\n",
    "t = np.arange(0, SAMP_NUM * SAMP_INT, SAMP_INT)\n",
    "signal = np.sin(2*np.pi*f1*t) + np.sin(2*np.pi*f2*t) + np.random.randn(SAMP_NUM)\n",
    "\n",
    "freq = np.linspace(0, 1.0/SAMP_INT, SAMP_NUM)\n",
    "spec = np.abs(np.fft.fft(signal))"
   ]
  },
  {
   "cell_type": "code",
   "execution_count": null,
   "metadata": {},
   "outputs": [],
   "source": [
    "import numpy as np\n",
    "import matplotlib.pyplot as plt\n",
    "%matplotlib inline\n",
    "fig=plt.figure()\n",
    "ax=fig.add_subplot(111)\n",
    "ax.plot(freq,spec,label=\"aaa\")\n",
    "ax.set_xlabel(\"x\")\n",
    "ax.set_ylabel(\"y\")\n",
    "plt.legend()\n",
    "plt.title(\"data\")\n",
    "plt.show"
   ]
  },
  {
   "cell_type": "markdown",
   "metadata": {},
   "source": [
    "#### Bonus : 10. と同様のグラフを `Bokeh` を用いて描画せよ。（Note: `Bokeh` はインストールされてない。）\n",
    "> 参考：[Bokeh 公式サイト](https://bokeh.pydata.org/en/latest/)"
   ]
  },
  {
   "cell_type": "code",
   "execution_count": 9,
   "metadata": {},
   "outputs": [
    {
     "data": {
      "text/html": [
       "\n",
       "    <div class=\"bk-root\">\n",
       "        <a href=\"https://bokeh.pydata.org\" target=\"_blank\" class=\"bk-logo bk-logo-small bk-logo-notebook\"></a>\n",
       "        <span id=\"1001\">Loading BokehJS ...</span>\n",
       "    </div>"
      ]
     },
     "metadata": {},
     "output_type": "display_data"
    },
    {
     "data": {
      "application/javascript": [
       "\n",
       "(function(root) {\n",
       "  function now() {\n",
       "    return new Date();\n",
       "  }\n",
       "\n",
       "  var force = true;\n",
       "\n",
       "  if (typeof root._bokeh_onload_callbacks === \"undefined\" || force === true) {\n",
       "    root._bokeh_onload_callbacks = [];\n",
       "    root._bokeh_is_loading = undefined;\n",
       "  }\n",
       "\n",
       "  var JS_MIME_TYPE = 'application/javascript';\n",
       "  var HTML_MIME_TYPE = 'text/html';\n",
       "  var EXEC_MIME_TYPE = 'application/vnd.bokehjs_exec.v0+json';\n",
       "  var CLASS_NAME = 'output_bokeh rendered_html';\n",
       "\n",
       "  /**\n",
       "   * Render data to the DOM node\n",
       "   */\n",
       "  function render(props, node) {\n",
       "    var script = document.createElement(\"script\");\n",
       "    node.appendChild(script);\n",
       "  }\n",
       "\n",
       "  /**\n",
       "   * Handle when an output is cleared or removed\n",
       "   */\n",
       "  function handleClearOutput(event, handle) {\n",
       "    var cell = handle.cell;\n",
       "\n",
       "    var id = cell.output_area._bokeh_element_id;\n",
       "    var server_id = cell.output_area._bokeh_server_id;\n",
       "    // Clean up Bokeh references\n",
       "    if (id != null && id in Bokeh.index) {\n",
       "      Bokeh.index[id].model.document.clear();\n",
       "      delete Bokeh.index[id];\n",
       "    }\n",
       "\n",
       "    if (server_id !== undefined) {\n",
       "      // Clean up Bokeh references\n",
       "      var cmd = \"from bokeh.io.state import curstate; print(curstate().uuid_to_server['\" + server_id + \"'].get_sessions()[0].document.roots[0]._id)\";\n",
       "      cell.notebook.kernel.execute(cmd, {\n",
       "        iopub: {\n",
       "          output: function(msg) {\n",
       "            var id = msg.content.text.trim();\n",
       "            if (id in Bokeh.index) {\n",
       "              Bokeh.index[id].model.document.clear();\n",
       "              delete Bokeh.index[id];\n",
       "            }\n",
       "          }\n",
       "        }\n",
       "      });\n",
       "      // Destroy server and session\n",
       "      var cmd = \"import bokeh.io.notebook as ion; ion.destroy_server('\" + server_id + \"')\";\n",
       "      cell.notebook.kernel.execute(cmd);\n",
       "    }\n",
       "  }\n",
       "\n",
       "  /**\n",
       "   * Handle when a new output is added\n",
       "   */\n",
       "  function handleAddOutput(event, handle) {\n",
       "    var output_area = handle.output_area;\n",
       "    var output = handle.output;\n",
       "\n",
       "    // limit handleAddOutput to display_data with EXEC_MIME_TYPE content only\n",
       "    if ((output.output_type != \"display_data\") || (!output.data.hasOwnProperty(EXEC_MIME_TYPE))) {\n",
       "      return\n",
       "    }\n",
       "\n",
       "    var toinsert = output_area.element.find(\".\" + CLASS_NAME.split(' ')[0]);\n",
       "\n",
       "    if (output.metadata[EXEC_MIME_TYPE][\"id\"] !== undefined) {\n",
       "      toinsert[toinsert.length - 1].firstChild.textContent = output.data[JS_MIME_TYPE];\n",
       "      // store reference to embed id on output_area\n",
       "      output_area._bokeh_element_id = output.metadata[EXEC_MIME_TYPE][\"id\"];\n",
       "    }\n",
       "    if (output.metadata[EXEC_MIME_TYPE][\"server_id\"] !== undefined) {\n",
       "      var bk_div = document.createElement(\"div\");\n",
       "      bk_div.innerHTML = output.data[HTML_MIME_TYPE];\n",
       "      var script_attrs = bk_div.children[0].attributes;\n",
       "      for (var i = 0; i < script_attrs.length; i++) {\n",
       "        toinsert[toinsert.length - 1].firstChild.setAttribute(script_attrs[i].name, script_attrs[i].value);\n",
       "      }\n",
       "      // store reference to server id on output_area\n",
       "      output_area._bokeh_server_id = output.metadata[EXEC_MIME_TYPE][\"server_id\"];\n",
       "    }\n",
       "  }\n",
       "\n",
       "  function register_renderer(events, OutputArea) {\n",
       "\n",
       "    function append_mime(data, metadata, element) {\n",
       "      // create a DOM node to render to\n",
       "      var toinsert = this.create_output_subarea(\n",
       "        metadata,\n",
       "        CLASS_NAME,\n",
       "        EXEC_MIME_TYPE\n",
       "      );\n",
       "      this.keyboard_manager.register_events(toinsert);\n",
       "      // Render to node\n",
       "      var props = {data: data, metadata: metadata[EXEC_MIME_TYPE]};\n",
       "      render(props, toinsert[toinsert.length - 1]);\n",
       "      element.append(toinsert);\n",
       "      return toinsert\n",
       "    }\n",
       "\n",
       "    /* Handle when an output is cleared or removed */\n",
       "    events.on('clear_output.CodeCell', handleClearOutput);\n",
       "    events.on('delete.Cell', handleClearOutput);\n",
       "\n",
       "    /* Handle when a new output is added */\n",
       "    events.on('output_added.OutputArea', handleAddOutput);\n",
       "\n",
       "    /**\n",
       "     * Register the mime type and append_mime function with output_area\n",
       "     */\n",
       "    OutputArea.prototype.register_mime_type(EXEC_MIME_TYPE, append_mime, {\n",
       "      /* Is output safe? */\n",
       "      safe: true,\n",
       "      /* Index of renderer in `output_area.display_order` */\n",
       "      index: 0\n",
       "    });\n",
       "  }\n",
       "\n",
       "  // register the mime type if in Jupyter Notebook environment and previously unregistered\n",
       "  if (root.Jupyter !== undefined) {\n",
       "    var events = require('base/js/events');\n",
       "    var OutputArea = require('notebook/js/outputarea').OutputArea;\n",
       "\n",
       "    if (OutputArea.prototype.mime_types().indexOf(EXEC_MIME_TYPE) == -1) {\n",
       "      register_renderer(events, OutputArea);\n",
       "    }\n",
       "  }\n",
       "\n",
       "  \n",
       "  if (typeof (root._bokeh_timeout) === \"undefined\" || force === true) {\n",
       "    root._bokeh_timeout = Date.now() + 5000;\n",
       "    root._bokeh_failed_load = false;\n",
       "  }\n",
       "\n",
       "  var NB_LOAD_WARNING = {'data': {'text/html':\n",
       "     \"<div style='background-color: #fdd'>\\n\"+\n",
       "     \"<p>\\n\"+\n",
       "     \"BokehJS does not appear to have successfully loaded. If loading BokehJS from CDN, this \\n\"+\n",
       "     \"may be due to a slow or bad network connection. Possible fixes:\\n\"+\n",
       "     \"</p>\\n\"+\n",
       "     \"<ul>\\n\"+\n",
       "     \"<li>re-rerun `output_notebook()` to attempt to load from CDN again, or</li>\\n\"+\n",
       "     \"<li>use INLINE resources instead, as so:</li>\\n\"+\n",
       "     \"</ul>\\n\"+\n",
       "     \"<code>\\n\"+\n",
       "     \"from bokeh.resources import INLINE\\n\"+\n",
       "     \"output_notebook(resources=INLINE)\\n\"+\n",
       "     \"</code>\\n\"+\n",
       "     \"</div>\"}};\n",
       "\n",
       "  function display_loaded() {\n",
       "    var el = document.getElementById(\"1001\");\n",
       "    if (el != null) {\n",
       "      el.textContent = \"BokehJS is loading...\";\n",
       "    }\n",
       "    if (root.Bokeh !== undefined) {\n",
       "      if (el != null) {\n",
       "        el.textContent = \"BokehJS \" + root.Bokeh.version + \" successfully loaded.\";\n",
       "      }\n",
       "    } else if (Date.now() < root._bokeh_timeout) {\n",
       "      setTimeout(display_loaded, 100)\n",
       "    }\n",
       "  }\n",
       "\n",
       "\n",
       "  function run_callbacks() {\n",
       "    try {\n",
       "      root._bokeh_onload_callbacks.forEach(function(callback) {\n",
       "        if (callback != null)\n",
       "          callback();\n",
       "      });\n",
       "    } finally {\n",
       "      delete root._bokeh_onload_callbacks\n",
       "    }\n",
       "    console.debug(\"Bokeh: all callbacks have finished\");\n",
       "  }\n",
       "\n",
       "  function load_libs(css_urls, js_urls, callback) {\n",
       "    if (css_urls == null) css_urls = [];\n",
       "    if (js_urls == null) js_urls = [];\n",
       "\n",
       "    root._bokeh_onload_callbacks.push(callback);\n",
       "    if (root._bokeh_is_loading > 0) {\n",
       "      console.debug(\"Bokeh: BokehJS is being loaded, scheduling callback at\", now());\n",
       "      return null;\n",
       "    }\n",
       "    if (js_urls == null || js_urls.length === 0) {\n",
       "      run_callbacks();\n",
       "      return null;\n",
       "    }\n",
       "    console.debug(\"Bokeh: BokehJS not loaded, scheduling load and callback at\", now());\n",
       "    root._bokeh_is_loading = css_urls.length + js_urls.length;\n",
       "\n",
       "    function on_load() {\n",
       "      root._bokeh_is_loading--;\n",
       "      if (root._bokeh_is_loading === 0) {\n",
       "        console.debug(\"Bokeh: all BokehJS libraries/stylesheets loaded\");\n",
       "        run_callbacks()\n",
       "      }\n",
       "    }\n",
       "\n",
       "    function on_error() {\n",
       "      console.error(\"failed to load \" + url);\n",
       "    }\n",
       "\n",
       "    for (var i = 0; i < css_urls.length; i++) {\n",
       "      var url = css_urls[i];\n",
       "      const element = document.createElement(\"link\");\n",
       "      element.onload = on_load;\n",
       "      element.onerror = on_error;\n",
       "      element.rel = \"stylesheet\";\n",
       "      element.type = \"text/css\";\n",
       "      element.href = url;\n",
       "      console.debug(\"Bokeh: injecting link tag for BokehJS stylesheet: \", url);\n",
       "      document.body.appendChild(element);\n",
       "    }\n",
       "\n",
       "    for (var i = 0; i < js_urls.length; i++) {\n",
       "      var url = js_urls[i];\n",
       "      var element = document.createElement('script');\n",
       "      element.onload = on_load;\n",
       "      element.onerror = on_error;\n",
       "      element.async = false;\n",
       "      element.src = url;\n",
       "      console.debug(\"Bokeh: injecting script tag for BokehJS library: \", url);\n",
       "      document.head.appendChild(element);\n",
       "    }\n",
       "  };var element = document.getElementById(\"1001\");\n",
       "  if (element == null) {\n",
       "    console.error(\"Bokeh: ERROR: autoload.js configured with elementid '1001' but no matching script tag was found. \")\n",
       "    return false;\n",
       "  }\n",
       "\n",
       "  function inject_raw_css(css) {\n",
       "    const element = document.createElement(\"style\");\n",
       "    element.appendChild(document.createTextNode(css));\n",
       "    document.body.appendChild(element);\n",
       "  }\n",
       "\n",
       "  var js_urls = [\"https://cdn.pydata.org/bokeh/release/bokeh-1.1.0.min.js\", \"https://cdn.pydata.org/bokeh/release/bokeh-widgets-1.1.0.min.js\", \"https://cdn.pydata.org/bokeh/release/bokeh-tables-1.1.0.min.js\", \"https://cdn.pydata.org/bokeh/release/bokeh-gl-1.1.0.min.js\"];\n",
       "  var css_urls = [\"https://cdn.pydata.org/bokeh/release/bokeh-1.1.0.min.css\", \"https://cdn.pydata.org/bokeh/release/bokeh-widgets-1.1.0.min.css\", \"https://cdn.pydata.org/bokeh/release/bokeh-tables-1.1.0.min.css\"];\n",
       "\n",
       "  var inline_js = [\n",
       "    function(Bokeh) {\n",
       "      Bokeh.set_log_level(\"info\");\n",
       "    },\n",
       "    \n",
       "    function(Bokeh) {\n",
       "      \n",
       "    },\n",
       "    function(Bokeh) {} // ensure no trailing comma for IE\n",
       "  ];\n",
       "\n",
       "  function run_inline_js() {\n",
       "    \n",
       "    if ((root.Bokeh !== undefined) || (force === true)) {\n",
       "      for (var i = 0; i < inline_js.length; i++) {\n",
       "        inline_js[i].call(root, root.Bokeh);\n",
       "      }if (force === true) {\n",
       "        display_loaded();\n",
       "      }} else if (Date.now() < root._bokeh_timeout) {\n",
       "      setTimeout(run_inline_js, 100);\n",
       "    } else if (!root._bokeh_failed_load) {\n",
       "      console.log(\"Bokeh: BokehJS failed to load within specified timeout.\");\n",
       "      root._bokeh_failed_load = true;\n",
       "    } else if (force !== true) {\n",
       "      var cell = $(document.getElementById(\"1001\")).parents('.cell').data().cell;\n",
       "      cell.output_area.append_execute_result(NB_LOAD_WARNING)\n",
       "    }\n",
       "\n",
       "  }\n",
       "\n",
       "  if (root._bokeh_is_loading === 0) {\n",
       "    console.debug(\"Bokeh: BokehJS loaded, going straight to plotting\");\n",
       "    run_inline_js();\n",
       "  } else {\n",
       "    load_libs(css_urls, js_urls, function() {\n",
       "      console.debug(\"Bokeh: BokehJS plotting callback run at\", now());\n",
       "      run_inline_js();\n",
       "    });\n",
       "  }\n",
       "}(window));"
      ],
      "application/vnd.bokehjs_load.v0+json": "\n(function(root) {\n  function now() {\n    return new Date();\n  }\n\n  var force = true;\n\n  if (typeof root._bokeh_onload_callbacks === \"undefined\" || force === true) {\n    root._bokeh_onload_callbacks = [];\n    root._bokeh_is_loading = undefined;\n  }\n\n  \n\n  \n  if (typeof (root._bokeh_timeout) === \"undefined\" || force === true) {\n    root._bokeh_timeout = Date.now() + 5000;\n    root._bokeh_failed_load = false;\n  }\n\n  var NB_LOAD_WARNING = {'data': {'text/html':\n     \"<div style='background-color: #fdd'>\\n\"+\n     \"<p>\\n\"+\n     \"BokehJS does not appear to have successfully loaded. If loading BokehJS from CDN, this \\n\"+\n     \"may be due to a slow or bad network connection. Possible fixes:\\n\"+\n     \"</p>\\n\"+\n     \"<ul>\\n\"+\n     \"<li>re-rerun `output_notebook()` to attempt to load from CDN again, or</li>\\n\"+\n     \"<li>use INLINE resources instead, as so:</li>\\n\"+\n     \"</ul>\\n\"+\n     \"<code>\\n\"+\n     \"from bokeh.resources import INLINE\\n\"+\n     \"output_notebook(resources=INLINE)\\n\"+\n     \"</code>\\n\"+\n     \"</div>\"}};\n\n  function display_loaded() {\n    var el = document.getElementById(\"1001\");\n    if (el != null) {\n      el.textContent = \"BokehJS is loading...\";\n    }\n    if (root.Bokeh !== undefined) {\n      if (el != null) {\n        el.textContent = \"BokehJS \" + root.Bokeh.version + \" successfully loaded.\";\n      }\n    } else if (Date.now() < root._bokeh_timeout) {\n      setTimeout(display_loaded, 100)\n    }\n  }\n\n\n  function run_callbacks() {\n    try {\n      root._bokeh_onload_callbacks.forEach(function(callback) {\n        if (callback != null)\n          callback();\n      });\n    } finally {\n      delete root._bokeh_onload_callbacks\n    }\n    console.debug(\"Bokeh: all callbacks have finished\");\n  }\n\n  function load_libs(css_urls, js_urls, callback) {\n    if (css_urls == null) css_urls = [];\n    if (js_urls == null) js_urls = [];\n\n    root._bokeh_onload_callbacks.push(callback);\n    if (root._bokeh_is_loading > 0) {\n      console.debug(\"Bokeh: BokehJS is being loaded, scheduling callback at\", now());\n      return null;\n    }\n    if (js_urls == null || js_urls.length === 0) {\n      run_callbacks();\n      return null;\n    }\n    console.debug(\"Bokeh: BokehJS not loaded, scheduling load and callback at\", now());\n    root._bokeh_is_loading = css_urls.length + js_urls.length;\n\n    function on_load() {\n      root._bokeh_is_loading--;\n      if (root._bokeh_is_loading === 0) {\n        console.debug(\"Bokeh: all BokehJS libraries/stylesheets loaded\");\n        run_callbacks()\n      }\n    }\n\n    function on_error() {\n      console.error(\"failed to load \" + url);\n    }\n\n    for (var i = 0; i < css_urls.length; i++) {\n      var url = css_urls[i];\n      const element = document.createElement(\"link\");\n      element.onload = on_load;\n      element.onerror = on_error;\n      element.rel = \"stylesheet\";\n      element.type = \"text/css\";\n      element.href = url;\n      console.debug(\"Bokeh: injecting link tag for BokehJS stylesheet: \", url);\n      document.body.appendChild(element);\n    }\n\n    for (var i = 0; i < js_urls.length; i++) {\n      var url = js_urls[i];\n      var element = document.createElement('script');\n      element.onload = on_load;\n      element.onerror = on_error;\n      element.async = false;\n      element.src = url;\n      console.debug(\"Bokeh: injecting script tag for BokehJS library: \", url);\n      document.head.appendChild(element);\n    }\n  };var element = document.getElementById(\"1001\");\n  if (element == null) {\n    console.error(\"Bokeh: ERROR: autoload.js configured with elementid '1001' but no matching script tag was found. \")\n    return false;\n  }\n\n  function inject_raw_css(css) {\n    const element = document.createElement(\"style\");\n    element.appendChild(document.createTextNode(css));\n    document.body.appendChild(element);\n  }\n\n  var js_urls = [\"https://cdn.pydata.org/bokeh/release/bokeh-1.1.0.min.js\", \"https://cdn.pydata.org/bokeh/release/bokeh-widgets-1.1.0.min.js\", \"https://cdn.pydata.org/bokeh/release/bokeh-tables-1.1.0.min.js\", \"https://cdn.pydata.org/bokeh/release/bokeh-gl-1.1.0.min.js\"];\n  var css_urls = [\"https://cdn.pydata.org/bokeh/release/bokeh-1.1.0.min.css\", \"https://cdn.pydata.org/bokeh/release/bokeh-widgets-1.1.0.min.css\", \"https://cdn.pydata.org/bokeh/release/bokeh-tables-1.1.0.min.css\"];\n\n  var inline_js = [\n    function(Bokeh) {\n      Bokeh.set_log_level(\"info\");\n    },\n    \n    function(Bokeh) {\n      \n    },\n    function(Bokeh) {} // ensure no trailing comma for IE\n  ];\n\n  function run_inline_js() {\n    \n    if ((root.Bokeh !== undefined) || (force === true)) {\n      for (var i = 0; i < inline_js.length; i++) {\n        inline_js[i].call(root, root.Bokeh);\n      }if (force === true) {\n        display_loaded();\n      }} else if (Date.now() < root._bokeh_timeout) {\n      setTimeout(run_inline_js, 100);\n    } else if (!root._bokeh_failed_load) {\n      console.log(\"Bokeh: BokehJS failed to load within specified timeout.\");\n      root._bokeh_failed_load = true;\n    } else if (force !== true) {\n      var cell = $(document.getElementById(\"1001\")).parents('.cell').data().cell;\n      cell.output_area.append_execute_result(NB_LOAD_WARNING)\n    }\n\n  }\n\n  if (root._bokeh_is_loading === 0) {\n    console.debug(\"Bokeh: BokehJS loaded, going straight to plotting\");\n    run_inline_js();\n  } else {\n    load_libs(css_urls, js_urls, function() {\n      console.debug(\"Bokeh: BokehJS plotting callback run at\", now());\n      run_inline_js();\n    });\n  }\n}(window));"
     },
     "metadata": {},
     "output_type": "display_data"
    }
   ],
   "source": [
    "import numpy as np\n",
    "from bokeh.io import output_notebook, show\n",
    "from bokeh.plotting import figure\n",
    "\n",
    "output_notebook()"
   ]
  },
  {
   "cell_type": "code",
   "execution_count": 12,
   "metadata": {},
   "outputs": [
    {
     "data": {
      "text/html": [
       "\n",
       "\n",
       "\n",
       "\n",
       "\n",
       "\n",
       "  <div class=\"bk-root\" id=\"fd7d981e-55fa-4ab3-9ceb-aed53bb31e6d\" data-root-id=\"1036\"></div>\n"
      ]
     },
     "metadata": {},
     "output_type": "display_data"
    },
    {
     "data": {
      "application/javascript": [
       "(function(root) {\n",
       "  function embed_document(root) {\n",
       "    \n",
       "  var docs_json = {\"30410eef-a53a-4ff4-9934-bc8be0ff2be7\":{\"roots\":{\"references\":[{\"attributes\":{\"below\":[{\"id\":\"1047\",\"type\":\"LinearAxis\"}],\"center\":[{\"id\":\"1051\",\"type\":\"Grid\"},{\"id\":\"1056\",\"type\":\"Grid\"},{\"id\":\"1081\",\"type\":\"Legend\"}],\"left\":[{\"id\":\"1052\",\"type\":\"LinearAxis\"}],\"renderers\":[{\"id\":\"1073\",\"type\":\"GlyphRenderer\"}],\"title\":{\"id\":\"1037\",\"type\":\"Title\"},\"toolbar\":{\"id\":\"1063\",\"type\":\"Toolbar\"},\"x_range\":{\"id\":\"1039\",\"type\":\"DataRange1d\"},\"x_scale\":{\"id\":\"1043\",\"type\":\"LinearScale\"},\"y_range\":{\"id\":\"1041\",\"type\":\"DataRange1d\"},\"y_scale\":{\"id\":\"1045\",\"type\":\"LinearScale\"}},\"id\":\"1036\",\"subtype\":\"Figure\",\"type\":\"Plot\"},{\"attributes\":{\"data_source\":{\"id\":\"1070\",\"type\":\"ColumnDataSource\"},\"glyph\":{\"id\":\"1071\",\"type\":\"Line\"},\"hover_glyph\":null,\"muted_glyph\":null,\"nonselection_glyph\":{\"id\":\"1072\",\"type\":\"Line\"},\"selection_glyph\":null,\"view\":{\"id\":\"1074\",\"type\":\"CDSView\"}},\"id\":\"1073\",\"type\":\"GlyphRenderer\"},{\"attributes\":{\"line_color\":\"#1f77b4\",\"x\":{\"field\":\"x\"},\"y\":{\"field\":\"y\"}},\"id\":\"1071\",\"type\":\"Line\"},{\"attributes\":{\"line_alpha\":0.1,\"line_color\":\"#1f77b4\",\"x\":{\"field\":\"x\"},\"y\":{\"field\":\"y\"}},\"id\":\"1072\",\"type\":\"Line\"},{\"attributes\":{},\"id\":\"1048\",\"type\":\"BasicTicker\"},{\"attributes\":{},\"id\":\"1057\",\"type\":\"PanTool\"},{\"attributes\":{},\"id\":\"1058\",\"type\":\"WheelZoomTool\"},{\"attributes\":{\"overlay\":{\"id\":\"1080\",\"type\":\"BoxAnnotation\"}},\"id\":\"1059\",\"type\":\"BoxZoomTool\"},{\"attributes\":{},\"id\":\"1060\",\"type\":\"SaveTool\"},{\"attributes\":{\"callback\":null},\"id\":\"1041\",\"type\":\"DataRange1d\"},{\"attributes\":{},\"id\":\"1061\",\"type\":\"ResetTool\"},{\"attributes\":{},\"id\":\"1062\",\"type\":\"HelpTool\"},{\"attributes\":{\"text\":\"data\"},\"id\":\"1037\",\"type\":\"Title\"},{\"attributes\":{\"active_drag\":\"auto\",\"active_inspect\":\"auto\",\"active_multi\":null,\"active_scroll\":\"auto\",\"active_tap\":\"auto\",\"tools\":[{\"id\":\"1057\",\"type\":\"PanTool\"},{\"id\":\"1058\",\"type\":\"WheelZoomTool\"},{\"id\":\"1059\",\"type\":\"BoxZoomTool\"},{\"id\":\"1060\",\"type\":\"SaveTool\"},{\"id\":\"1061\",\"type\":\"ResetTool\"},{\"id\":\"1062\",\"type\":\"HelpTool\"}]},\"id\":\"1063\",\"type\":\"Toolbar\"},{\"attributes\":{\"callback\":null},\"id\":\"1039\",\"type\":\"DataRange1d\"},{\"attributes\":{\"callback\":null,\"data\":{\"x\":{\"__ndarray__\":\"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\",\"dtype\":\"float64\",\"shape\":[256]},\"y\":{\"__ndarray__\":\"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\",\"dtype\":\"float64\",\"shape\":[256]}},\"selected\":{\"id\":\"1089\",\"type\":\"Selection\"},\"selection_policy\":{\"id\":\"1088\",\"type\":\"UnionRenderers\"}},\"id\":\"1070\",\"type\":\"ColumnDataSource\"},{\"attributes\":{\"source\":{\"id\":\"1070\",\"type\":\"ColumnDataSource\"}},\"id\":\"1074\",\"type\":\"CDSView\"},{\"attributes\":{},\"id\":\"1076\",\"type\":\"BasicTickFormatter\"},{\"attributes\":{},\"id\":\"1089\",\"type\":\"Selection\"},{\"attributes\":{},\"id\":\"1078\",\"type\":\"BasicTickFormatter\"},{\"attributes\":{},\"id\":\"1088\",\"type\":\"UnionRenderers\"},{\"attributes\":{\"ticker\":{\"id\":\"1048\",\"type\":\"BasicTicker\"}},\"id\":\"1051\",\"type\":\"Grid\"},{\"attributes\":{\"bottom_units\":\"screen\",\"fill_alpha\":{\"value\":0.5},\"fill_color\":{\"value\":\"lightgrey\"},\"left_units\":\"screen\",\"level\":\"overlay\",\"line_alpha\":{\"value\":1.0},\"line_color\":{\"value\":\"black\"},\"line_dash\":[4,4],\"line_width\":{\"value\":2},\"render_mode\":\"css\",\"right_units\":\"screen\",\"top_units\":\"screen\"},\"id\":\"1080\",\"type\":\"BoxAnnotation\"},{\"attributes\":{\"axis_label\":\"x\",\"formatter\":{\"id\":\"1078\",\"type\":\"BasicTickFormatter\"},\"ticker\":{\"id\":\"1048\",\"type\":\"BasicTicker\"}},\"id\":\"1047\",\"type\":\"LinearAxis\"},{\"attributes\":{\"items\":[{\"id\":\"1082\",\"type\":\"LegendItem\"}]},\"id\":\"1081\",\"type\":\"Legend\"},{\"attributes\":{\"dimension\":1,\"ticker\":{\"id\":\"1053\",\"type\":\"BasicTicker\"}},\"id\":\"1056\",\"type\":\"Grid\"},{\"attributes\":{},\"id\":\"1043\",\"type\":\"LinearScale\"},{\"attributes\":{\"axis_label\":\"y\",\"formatter\":{\"id\":\"1076\",\"type\":\"BasicTickFormatter\"},\"ticker\":{\"id\":\"1053\",\"type\":\"BasicTicker\"}},\"id\":\"1052\",\"type\":\"LinearAxis\"},{\"attributes\":{\"label\":{\"value\":\"data\"},\"renderers\":[{\"id\":\"1073\",\"type\":\"GlyphRenderer\"}]},\"id\":\"1082\",\"type\":\"LegendItem\"},{\"attributes\":{},\"id\":\"1045\",\"type\":\"LinearScale\"},{\"attributes\":{},\"id\":\"1053\",\"type\":\"BasicTicker\"}],\"root_ids\":[\"1036\"]},\"title\":\"Bokeh Application\",\"version\":\"1.1.0\"}};\n",
       "  var render_items = [{\"docid\":\"30410eef-a53a-4ff4-9934-bc8be0ff2be7\",\"roots\":{\"1036\":\"fd7d981e-55fa-4ab3-9ceb-aed53bb31e6d\"}}];\n",
       "  root.Bokeh.embed.embed_items_notebook(docs_json, render_items);\n",
       "\n",
       "  }\n",
       "  if (root.Bokeh !== undefined) {\n",
       "    embed_document(root);\n",
       "  } else {\n",
       "    var attempts = 0;\n",
       "    var timer = setInterval(function(root) {\n",
       "      if (root.Bokeh !== undefined) {\n",
       "        embed_document(root);\n",
       "        clearInterval(timer);\n",
       "      }\n",
       "      attempts++;\n",
       "      if (attempts > 100) {\n",
       "        console.log(\"Bokeh: ERROR: Unable to run BokehJS code because BokehJS library is missing\");\n",
       "        clearInterval(timer);\n",
       "      }\n",
       "    }, 10, root)\n",
       "  }\n",
       "})(window);"
      ],
      "application/vnd.bokehjs_exec.v0+json": ""
     },
     "metadata": {
      "application/vnd.bokehjs_exec.v0+json": {
       "id": "1036"
      }
     },
     "output_type": "display_data"
    }
   ],
   "source": [
    "p=figure(title=\"data\", x_axis_label='x', y_axis_label='y')\n",
    "p.line(freq,spec,legend=\"data\")\n",
    "show(p)"
   ]
  }
 ],
 "metadata": {
  "kernelspec": {
   "display_name": "Python 3",
   "language": "python",
   "name": "python3"
  },
  "language_info": {
   "codemirror_mode": {
    "name": "ipython",
    "version": 3
   },
   "file_extension": ".py",
   "mimetype": "text/x-python",
   "name": "python",
   "nbconvert_exporter": "python",
   "pygments_lexer": "ipython3",
   "version": "3.7.2"
  }
 },
 "nbformat": 4,
 "nbformat_minor": 2
}
