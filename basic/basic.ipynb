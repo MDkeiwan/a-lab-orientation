{
 "cells": [
  {
   "cell_type": "markdown",
   "metadata": {},
   "source": [
    "# 基本課題"
   ]
  },
  {
   "cell_type": "markdown",
   "metadata": {},
   "source": [
    "#### 1. 任意の文字列 (xxx) を標準入力で受け取り，\"Hello, xxx!\" と出力せよ。"
   ]
  },
  {
   "cell_type": "code",
   "execution_count": null,
   "metadata": {},
   "outputs": [],
   "source": [
    "x=input(\"文字を入力してください→\")\n",
    "print(\"Hello,{}!\".format(x))"
   ]
  },
  {
   "cell_type": "markdown",
   "metadata": {},
   "source": [
    "#### 2. 任意の整数を標準入力で受け取り，\"100\" との和差積商を出力せよ。"
   ]
  },
  {
   "cell_type": "code",
   "execution_count": null,
   "metadata": {},
   "outputs": [],
   "source": [
    "x=float(input(\"数字を入力してください->\"))\n",
    "print(\"和={}\".format(100+x))\n",
    "print(\"差={}\".format(100-x))\n",
    "print(\"積={}\".format(100*x))\n",
    "print(\"商={}\".format(x/100))"
   ]
  },
  {
   "cell_type": "markdown",
   "metadata": {},
   "source": [
    "#### 3. 1から50のリストを作って，その最大値，最小値，合計値，平均値を出力せよ。"
   ]
  },
  {
   "cell_type": "code",
   "execution_count": null,
   "metadata": {},
   "outputs": [],
   "source": [
    "data=[i+1for i in range(50)]\n",
    "print(\"リスト={}\".format(data))\n",
    "print(\"合計値={}\".format(sum(data)))\n",
    "print(\"平均値={}\".format(sum(data)/len(data)))\n",
    "print(\"最大値={}\".format(max(data)))\n",
    "print(\"最小値={}\".format(min(data)))"
   ]
  },
  {
   "cell_type": "markdown",
   "metadata": {},
   "source": [
    "#### 4. 3. で作ったリストに 51から100のリストを追加せよ。また，そのリストから30から70までの偶数要素のみを出力せよ。"
   ]
  },
  {
   "cell_type": "code",
   "execution_count": null,
   "metadata": {},
   "outputs": [],
   "source": [
    "data2=[i+51 for i in range(50)]\n",
    "newdata=data+data2\n",
    "print([i for i in newdata if i>=30 and i<=71 and i%2==0])"
   ]
  },
  {
   "cell_type": "markdown",
   "metadata": {},
   "source": [
    "#### 5. 講習参加者の姓を key, 学年を value とする辞書を作り，全要素を for 文を用いて出力せよ。"
   ]
  },
  {
   "cell_type": "code",
   "execution_count": null,
   "metadata": {},
   "outputs": [],
   "source": [
    "member={\"matsuda\":\"B4\",\n",
    "       \"hagimoto\":\"B4\",\n",
    "       \"matsue\":\"B4\",\n",
    "       \"seki\":\"B4\",\n",
    "       \"yamada\":\"B4\"}\n",
    "for i in member:\n",
    "    print(i,member[i])"
   ]
  },
  {
   "cell_type": "markdown",
   "metadata": {},
   "source": [
    "#### 6. 1から100の範囲で，3で割り切れる場合は\"Fizz\"，5で割り切れる場合は\"buzz\"，そのどちらでも割り切れる場合は\"FizzBuzz\"，いずれでもない場合はそのまま数字を出力せよ。\n",
    "##### 出力例\n",
    "```bash\n",
    "1, 2, \"Fizz\", 4, \"Buzz\", \"Fizz\", ..., 14, \"FizzBuzz\", 16, ...\n",
    "```"
   ]
  },
  {
   "cell_type": "code",
   "execution_count": null,
   "metadata": {},
   "outputs": [],
   "source": [
    "for x in range(1,100):\n",
    "    if x % 15 ==0:\n",
    "        print(\"FizzBuzz\",end=\",\")\n",
    "    elif x % 3 ==0:\n",
    "        print(\"Fizz\",end=\",\")\n",
    "    elif x % 5 ==0:\n",
    "        print(\"Buzz\",end=\",\")\n",
    "    else:\n",
    "        print(x,end=\",\")"
   ]
  },
  {
   "cell_type": "markdown",
   "metadata": {},
   "source": [
    "#### 7.　2つの自然数の最大公約数を求める関数を実装せよ。"
   ]
  },
  {
   "cell_type": "code",
   "execution_count": null,
   "metadata": {},
   "outputs": [],
   "source": [
    "x=int(input(\"一つ目の数字を入力してください\"))\n",
    "y=int(input(\"二つ目の数字を入力してください\"))\n",
    "\n",
    "if x>=y:\n",
    "    a=x\n",
    "    b=y\n",
    "else:\n",
    "    a=y\n",
    "    b=x\n",
    "if a%b==0:\n",
    "    pass\n",
    "else:\n",
    "    while a%b!=0:\n",
    "        c=a%b\n",
    "        a=b\n",
    "        b=c\n",
    "print(b)"
   ]
  },
  {
   "cell_type": "markdown",
   "metadata": {},
   "source": [
    "#### 8. `address-tab.txt`を読み込み，先頭から５行のみを出力せよ。また，タブをスペースに変換した結果を `address-space.txt` に書き込め。"
   ]
  },
  {
   "cell_type": "code",
   "execution_count": null,
   "metadata": {},
   "outputs": [],
   "source": [
    "file=open(\"address-tab.txt\",\"r\")\n",
    "line=file.read()\n",
    "file.close()\n",
    "a=line.split(\"\\n\")\n",
    "with open(\"address-space.txt\",\"w\") as f:\n",
    "    for i, name in enumerate(a):\n",
    "        print(name)\n",
    "        b=name.replace(\"\\t\",\" \")\n",
    "        f.write(b+\"\\n\")\n",
    "        if i>3:\n",
    "            break"
   ]
  },
  {
   "cell_type": "markdown",
   "metadata": {},
   "source": [
    "#### 9. モンテカルロ法 (10,000点) を用いて円周率の近似値を求めよ。なお `NumPy` を用いること。\n",
    "\n",
    "> 参考：[NumPy 公式サイト](https://docs.scipy.org/doc/numpy/)"
   ]
  },
  {
   "cell_type": "code",
   "execution_count": null,
   "metadata": {},
   "outputs": [],
   "source": [
    "import numpy as np\n",
    "num=10000\n",
    "x=np.random.rand(num)\n",
    "y=np.random.rand(num)\n",
    "b=(x*x+y*y)<=1\n",
    "print(4*b.sum()/num)"
   ]
  },
  {
   "cell_type": "markdown",
   "metadata": {},
   "source": [
    "#### 10. 以下のセルを実行して得られるデータ **(freq, spec)** を `Matplotlib` を用いて描画せよ。なお，タイトル，ラベル，凡例もつけること。\n",
    "\n",
    "> 参考：[Matplotlib 公式サイト](https://matplotlib.org/)"
   ]
  },
  {
   "cell_type": "code",
   "execution_count": null,
   "metadata": {},
   "outputs": [],
   "source": [
    "import numpy as np\n",
    "\n",
    "SAMP_NUM = 256\n",
    "SAMP_INT = 0.01\n",
    "\n",
    "f1, f2 = 10, 20\n",
    "t = np.arange(0, SAMP_NUM * SAMP_INT, SAMP_INT)\n",
    "signal = np.sin(2*np.pi*f1*t) + np.sin(2*np.pi*f2*t) + np.random.randn(SAMP_NUM)\n",
    "\n",
    "freq = np.linspace(0, 1.0/SAMP_INT, SAMP_NUM)\n",
    "spec = np.abs(np.fft.fft(signal))"
   ]
  },
  {
   "cell_type": "code",
   "execution_count": null,
   "metadata": {},
   "outputs": [],
   "source": [
    "import numpy as np\n",
    "import matplotlib.pyplot as plt\n",
    "%matplotlib inline\n",
    "fig=plt.figure()\n",
    "ax=fig.add_subplot(111)\n",
    "ax.plot(freq,spec,label=\"aaa\")\n",
    "ax.set_xlabel(\"x\")\n",
    "ax.set_ylabel(\"y\")\n",
    "plt.legend()\n",
    "plt.title(\"data\")\n",
    "plt.show"
   ]
  },
  {
   "cell_type": "markdown",
   "metadata": {},
   "source": [
    "#### Bonus : 10. と同様のグラフを `Bokeh` を用いて描画せよ。（Note: `Bokeh` はインストールされてない。）\n",
    "> 参考：[Bokeh 公式サイト](https://bokeh.pydata.org/en/latest/)"
   ]
  },
  {
   "cell_type": "code",
   "execution_count": null,
   "metadata": {},
   "outputs": [],
   "source": [
    "import numpy as np\n",
    "from bokeh.io import output_notebook, show\n",
    "from bokeh.plotting import figure\n",
    "\n",
    "output_notebook()"
   ]
  },
  {
   "cell_type": "code",
   "execution_count": null,
   "metadata": {},
   "outputs": [],
   "source": [
    "p=figure(title=\"data\", x_axis_label='x', y_axis_label='y')\n",
    "p.line(freq,spec,legend=\"data\")\n",
    "show(p)"
   ]
  }
 ],
 "metadata": {
  "kernelspec": {
   "display_name": "Python 3",
   "language": "python",
   "name": "python3"
  },
  "language_info": {
   "codemirror_mode": {
    "name": "ipython",
    "version": 3
   },
   "file_extension": ".py",
   "mimetype": "text/x-python",
   "name": "python",
   "nbconvert_exporter": "python",
   "pygments_lexer": "ipython3",
   "version": "3.7.2"
  }
 },
 "nbformat": 4,
 "nbformat_minor": 2
}
